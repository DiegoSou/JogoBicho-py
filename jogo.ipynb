{
 "cells": [
  {
   "cell_type": "markdown",
   "id": "241ac517",
   "metadata": {},
   "source": [
    "## Joguinho do Bixo"
   ]
  },
  {
   "cell_type": "markdown",
   "id": "fc002ec2",
   "metadata": {},
   "source": [
    "<img src=\"./resources/relacao.jpg\" width=\"80%\" style=\"margin:auto; margin-bottom:20px; margin-top:20px; height:600px; opacity:0.9\"></img>"
   ]
  },
  {
   "cell_type": "code",
   "execution_count": 66,
   "id": "f9595967",
   "metadata": {},
   "outputs": [],
   "source": [
    "from database import resultados_data_df\n",
    "from database import animais\n",
    "import controls.maincontrols as c"
   ]
  },
  {
   "cell_type": "markdown",
   "id": "c34660c4",
   "metadata": {},
   "source": [
    "#### Substituindo o index do DataFrame por valores da tabela"
   ]
  },
  {
   "cell_type": "code",
   "execution_count": 69,
   "id": "4edf108c",
   "metadata": {},
   "outputs": [
    {
     "data": {
      "text/html": [
       "<div>\n",
       "<style scoped>\n",
       "    .dataframe tbody tr th:only-of-type {\n",
       "        vertical-align: middle;\n",
       "    }\n",
       "\n",
       "    .dataframe tbody tr th {\n",
       "        vertical-align: top;\n",
       "    }\n",
       "\n",
       "    .dataframe thead th {\n",
       "        text-align: right;\n",
       "    }\n",
       "</style>\n",
       "<table border=\"1\" class=\"dataframe\">\n",
       "  <thead>\n",
       "    <tr style=\"text-align: right;\">\n",
       "      <th></th>\n",
       "      <th>milhar</th>\n",
       "    </tr>\n",
       "    <tr>\n",
       "      <th>data</th>\n",
       "      <th></th>\n",
       "    </tr>\n",
       "  </thead>\n",
       "  <tbody>\n",
       "    <tr>\n",
       "      <th>2022-09-24</th>\n",
       "      <td>8982</td>\n",
       "    </tr>\n",
       "    <tr>\n",
       "      <th>2022-09-23</th>\n",
       "      <td>6690</td>\n",
       "    </tr>\n",
       "    <tr>\n",
       "      <th>2022-09-22</th>\n",
       "      <td>8679</td>\n",
       "    </tr>\n",
       "    <tr>\n",
       "      <th>2022-09-21</th>\n",
       "      <td>5613</td>\n",
       "    </tr>\n",
       "    <tr>\n",
       "      <th>2022-09-20</th>\n",
       "      <td>6680</td>\n",
       "    </tr>\n",
       "    <tr>\n",
       "      <th>...</th>\n",
       "      <td>...</td>\n",
       "    </tr>\n",
       "    <tr>\n",
       "      <th>2021-08-12</th>\n",
       "      <td>5452</td>\n",
       "    </tr>\n",
       "    <tr>\n",
       "      <th>2021-07-12</th>\n",
       "      <td>290</td>\n",
       "    </tr>\n",
       "    <tr>\n",
       "      <th>2021-06-12</th>\n",
       "      <td>1121</td>\n",
       "    </tr>\n",
       "    <tr>\n",
       "      <th>2021-04-12</th>\n",
       "      <td>1929</td>\n",
       "    </tr>\n",
       "    <tr>\n",
       "      <th>2021-03-12</th>\n",
       "      <td>3945</td>\n",
       "    </tr>\n",
       "  </tbody>\n",
       "</table>\n",
       "<p>247 rows × 1 columns</p>\n",
       "</div>"
      ],
      "text/plain": [
       "            milhar\n",
       "data              \n",
       "2022-09-24    8982\n",
       "2022-09-23    6690\n",
       "2022-09-22    8679\n",
       "2022-09-21    5613\n",
       "2022-09-20    6680\n",
       "...            ...\n",
       "2021-08-12    5452\n",
       "2021-07-12     290\n",
       "2021-06-12    1121\n",
       "2021-04-12    1929\n",
       "2021-03-12    3945\n",
       "\n",
       "[247 rows x 1 columns]"
      ]
     },
     "execution_count": 69,
     "metadata": {},
     "output_type": "execute_result"
    }
   ],
   "source": [
    "resultados_data_df.index = resultados_data_df.data\n",
    "resultados_data_df.del['data']"
   ]
  },
  {
   "cell_type": "code",
   "execution_count": 70,
   "id": "68cb5fa6",
   "metadata": {},
   "outputs": [
    {
     "name": "stdout",
     "output_type": "stream",
     "text": [
      "            milhar\n",
      "data              \n",
      "2022-09-24    8982\n",
      "2022-09-23    6690\n",
      "2022-09-22    8679\n",
      "2022-09-21    5613\n",
      "2022-09-20    6680\n",
      "...            ...\n",
      "2021-08-12    5452\n",
      "2021-07-12     290\n",
      "2021-06-12    1121\n",
      "2021-04-12    1929\n",
      "2021-03-12    3945\n",
      "\n",
      "[247 rows x 1 columns]\n"
     ]
    }
   ],
   "source": [
    "print(resultados_data_df)"
   ]
  },
  {
   "cell_type": "markdown",
   "id": "3e49628c",
   "metadata": {},
   "source": [
    "#### Completando valores inteiros incorretamente formatados na tabela"
   ]
  },
  {
   "cell_type": "code",
   "execution_count": 72,
   "id": "601b73c0",
   "metadata": {},
   "outputs": [],
   "source": [
    "resultados_data_df.milhar = resultados_data_df.milhar.apply(lambda x: str(x).zfill(4))"
   ]
  },
  {
   "cell_type": "code",
   "execution_count": 74,
   "id": "c4a2dc49",
   "metadata": {},
   "outputs": [
    {
     "name": "stdout",
     "output_type": "stream",
     "text": [
      "           milhar\n",
      "data             \n",
      "2022-09-24   8982\n",
      "2022-09-23   6690\n",
      "2022-09-22   8679\n",
      "2022-09-21   5613\n",
      "2022-09-20   6680\n",
      "...           ...\n",
      "2021-08-12   5452\n",
      "2021-07-12   0290\n",
      "2021-06-12   1121\n",
      "2021-04-12   1929\n",
      "2021-03-12   3945\n",
      "\n",
      "[247 rows x 1 columns]\n"
     ]
    }
   ],
   "source": [
    "print(resultados_data_df)"
   ]
  },
  {
   "cell_type": "markdown",
   "id": "149c2f83",
   "metadata": {},
   "source": [
    "#### Hora de ver alguma coisa"
   ]
  },
  {
   "cell_type": "code",
   "execution_count": 110,
   "id": "ca50b834",
   "metadata": {},
   "outputs": [
    {
     "name": "stdout",
     "output_type": "stream",
     "text": [
      "           milhar resultado1 resultado2\n",
      "data                                   \n",
      "2022-09-24   8982         82         89\n",
      "2022-09-23   6690         90         66\n",
      "2022-09-22   8679         79         86\n",
      "2022-09-21   5613         13         56\n",
      "2022-09-20   6680         80         66\n",
      "...           ...        ...        ...\n",
      "2021-08-12   5452         52         54\n",
      "2021-07-12   0290         90         02\n",
      "2021-06-12   1121         21         11\n",
      "2021-04-12   1929         29         19\n",
      "2021-03-12   3945         45         39\n",
      "\n",
      "[247 rows x 3 columns]\n",
      "\n",
      "\n"
     ]
    }
   ],
   "source": [
    "resultados_data_df['resultado1'] = resultados_data_df.milhar.apply(lambda x: str(x)[2:])\n",
    "resultados_data_df['resultado2'] = resultados_data_df.milhar.apply(lambda x: str(x)[:2])\n",
    "print(resultados_data_df)\n",
    "print('\\n')"
   ]
  },
  {
   "cell_type": "code",
   "execution_count": 129,
   "id": "e6ec4164",
   "metadata": {},
   "outputs": [
    {
     "name": "stdout",
     "output_type": "stream",
     "text": [
      "           milhar resultado1 resultado2      bixo1     bixo2\n",
      "data                                                        \n",
      "2022-09-24   8982         82         89      Touro      Urso\n",
      "2022-09-23   6690         90         66       Urso    Macaco\n",
      "2022-09-22   8679         79         86       Peru     Tigre\n",
      "2022-09-21   5613         13         56  Borboleta      Gato\n",
      "2022-09-20   6680         80         66       Peru    Macaco\n",
      "...           ...        ...        ...        ...       ...\n",
      "2021-08-12   5452         52         54       Galo      Gato\n",
      "2021-07-12   0290         90         02       Urso  Avestruz\n",
      "2021-06-12   1121         21         11      Cabra     Burro\n",
      "2021-04-12   1929         29         19     Camelo  Cachorro\n",
      "2021-03-12   3945         45         39   Elefante    Coelho\n",
      "\n",
      "[247 rows x 5 columns]\n",
      "\n",
      "\n"
     ]
    }
   ],
   "source": [
    "resultados_data_df['bixo1'] = resultados_data_df.resultado1.apply(\n",
    "    lambda x: c.locInAnimals(int(x), animais['n'])\n",
    ")\n",
    "\n",
    "resultados_data_df['bixo2'] = resultados_data_df.resultado2.apply(\n",
    "    lambda x: c.locInAnimals(int(x), animais['n'])\n",
    ")\n",
    "\n",
    "print(resultados_data_df)\n",
    "print('\\n')"
   ]
  },
  {
   "cell_type": "markdown",
   "id": "b969902b",
   "metadata": {},
   "source": [
    "<p></p><p></p>"
   ]
  },
  {
   "cell_type": "code",
   "execution_count": 153,
   "id": "bc0ec51a",
   "metadata": {},
   "outputs": [
    {
     "data": {
      "text/plain": [
       "<Axes: ylabel='bixo1'>"
      ]
     },
     "execution_count": 153,
     "metadata": {},
     "output_type": "execute_result"
    },
    {
     "data": {
      "image/png": "[encoded data removed]",
      "text/plain": [
       "<Figure size 432x288 with 1 Axes>"
      ]
     },
     "metadata": {},
     "output_type": "display_data"
    }
   ],
   "source": [
    "analise_melhorDupla_df = (\n",
    "    resultados_data_df\n",
    "    .loc[resultados_data_df['bixo2'] == 'Galo']['bixo1']\n",
    "    .groupby(resultados_data_df['bixo1'])\n",
    "    .count()\n",
    ")\n",
    "analise_melhorDupla_df.plot(kind='barh')"
   ]
  },
  {
   "cell_type": "code",
   "execution_count": 156,
   "id": "03774252",
   "metadata": {},
   "outputs": [
    {
     "ename": "ImportError",
     "evalue": "cannot import name 'locInGroups' from 'controls.maincontrols' (/home/diegosous/Documents/Diego/1_Jupyter Notebook/(pandas 3) jogo-do-bicho/controls/maincontrols.py)",
     "output_type": "error",
     "traceback": [
      "\u001b[0;31m---------------------------------------------------------------------------\u001b[0m",
      "\u001b[0;31mImportError\u001b[0m                               Traceback (most recent call last)",
      "Input \u001b[0;32mIn [156]\u001b[0m, in \u001b[0;36m<cell line: 1>\u001b[0;34m()\u001b[0m\n\u001b[0;32m----> 1\u001b[0m \u001b[38;5;28;01mfrom\u001b[39;00m \u001b[38;5;21;01mcontrols\u001b[39;00m\u001b[38;5;21;01m.\u001b[39;00m\u001b[38;5;21;01mmaincontrols\u001b[39;00m \u001b[38;5;28;01mimport\u001b[39;00m locInGroups\n",
      "\u001b[0;31mImportError\u001b[0m: cannot import name 'locInGroups' from 'controls.maincontrols' (/home/diegosous/Documents/Diego/1_Jupyter Notebook/(pandas 3) jogo-do-bicho/controls/maincontrols.py)"
     ]
    }
   ],
   "source": []
  }
 ],
 "metadata": {
  "kernelspec": {
   "display_name": "Python 3 (ipykernel)",
   "language": "python",
   "name": "python3"
  },
  "language_info": {
   "codemirror_mode": {
    "name": "ipython",
    "version": 3
   },
   "file_extension": ".py",
   "mimetype": "text/x-python",
   "name": "python",
   "nbconvert_exporter": "python",
   "pygments_lexer": "ipython3",
   "version": "3.10.6"
  }
 },
 "nbformat": 4,
 "nbformat_minor": 5
}
